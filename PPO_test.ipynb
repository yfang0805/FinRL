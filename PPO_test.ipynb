{
 "cells": [
  {
   "cell_type": "code",
   "execution_count": 1,
   "metadata": {
    "collapsed": true
   },
   "outputs": [
    {
     "name": "stdout",
     "output_type": "stream",
     "text": [
      "devic: cuda\n",
      "devic: cuda\n"
     ]
    },
    {
     "name": "stderr",
     "output_type": "stream",
     "text": [
      "E:\\Anaconda\\envs\\finrl\\lib\\site-packages\\pyfolio\\pos.py:26: UserWarning: Module \"zipline.assets\" not found; mutltipliers will not be applied to position notionals.\n",
      "  warnings.warn(\n"
     ]
    }
   ],
   "source": [
    "import numpy as np\n",
    "import pandas as pd\n",
    "import os\n",
    "\n",
    "from env import StockLearningEnv\n",
    "import config\n",
    "\n",
    "import torch\n",
    "from Attention_PPO import Attention_PPO\n",
    "from PPO import PPO\n",
    "\n",
    "from pyfolio import timeseries\n",
    "from copy import deepcopy\n",
    "\n",
    "import matplotlib.pyplot as plt\n",
    "import matplotlib.ticker as ticker\n",
    "import warnings\n",
    "\n",
    "warnings.filterwarnings(\"ignore\")"
   ]
  },
  {
   "cell_type": "code",
   "execution_count": 3,
   "outputs": [
    {
     "name": "stdout",
     "output_type": "stream",
     "text": [
      "加载数据缓存\n",
      "数据缓存成功!\n"
     ]
    }
   ],
   "source": [
    "kwargs = {\n",
    "    \"state_dim\": 801,\n",
    "    \"action_dim\": 50,\n",
    "    \"env_with_Dead\": True\n",
    "}\n",
    "model = PPO(**kwargs)\n",
    "df = pd.read_csv('./data_file/trade.csv')\n",
    "e_trade_gym = StockLearningEnv(df=df, **config.ENV_TRADE_PARAMS)"
   ],
   "metadata": {
    "collapsed": false
   }
  },
  {
   "cell_type": "code",
   "execution_count": 5,
   "outputs": [
    {
     "name": "stdout",
     "output_type": "stream",
     "text": [
      "EPISODE|STEPS|TERMINAL_REASON|CASH           |TOT_ASSETS     |TERMINAL_REWARD|GAINLOSS_PCT|RETREAT_PROPORTION\n",
      "回测完成!\n",
      "   1| 486|Last Date      |￥7,122         |￥2,133,319     |113.33186%|113.33186%|0.00%     \n"
     ]
    }
   ],
   "source": [
    "model.load(50000)\n",
    "test_env, test_obs = e_trade_gym.get_sb_env()\n",
    "\n",
    "test_env.reset()\n",
    "\n",
    "len_environment = len(e_trade_gym.df.index.unique())\n",
    "for i in range(len_environment):\n",
    "    action = model.select_action(test_obs)\n",
    "    test_obs, _, dones, _ = test_env.step(action)\n",
    "    if i == len_environment -2:\n",
    "        df_account = test_env.env_method(method_name=\"save_asset_memory\")[0]\n",
    "        df_action = test_env.env_method(method_name=\"save_action_memory\")[0]\n",
    "        print(\"回测完成!\")"
   ],
   "metadata": {
    "collapsed": false
   }
  },
  {
   "cell_type": "code",
   "execution_count": 6,
   "outputs": [],
   "source": [
    "model_name = 'teamPPO'\n",
    "df_action.to_csv('./backtest/' + model_name + '50000' + 'action.csv')\n",
    "df_account.to_csv('./backtest/' + model_name + '50000' + 'account.csv')"
   ],
   "metadata": {
    "collapsed": false
   }
  },
  {
   "cell_type": "code",
   "execution_count": 7,
   "outputs": [],
   "source": [
    "kwargs = {\n",
    "    \"state_dim\": 801,\n",
    "    \"action_dim\": 50,\n",
    "    \"env_with_Dead\": True\n",
    "}\n",
    "model = Attention_PPO(**kwargs)\n",
    "T_horizon = 100\n",
    "traj_lenth = 0\n",
    "total_steps = 0\n",
    "Max_train_steps = 50000\n",
    "save_interval = 10000\n",
    "model.load(50000)"
   ],
   "metadata": {
    "collapsed": false
   }
  },
  {
   "cell_type": "code",
   "execution_count": 8,
   "outputs": [
    {
     "name": "stdout",
     "output_type": "stream",
     "text": [
      "回测完成!\n",
      "   3| 486|Last Date      |￥63,975        |￥2,117,552     |111.75518%|111.75518%|0.00%     \n"
     ]
    }
   ],
   "source": [
    "est_env, test_obs = e_trade_gym.get_sb_env()\n",
    "\n",
    "test_env.reset()\n",
    "\n",
    "len_environment = len(e_trade_gym.df.index.unique())\n",
    "for i in range(len_environment):\n",
    "    action = model.select_action(test_obs)\n",
    "    test_obs, _, dones, _ = test_env.step(action)\n",
    "    if i == len_environment - 2:\n",
    "        df_account = test_env.env_method(method_name=\"save_asset_memory\")[0]\n",
    "        df_action = test_env.env_method(method_name=\"save_action_memory\")[0]\n",
    "        print(\"回测完成!\")\n",
    "model_name = 'Attention_PPO'\n",
    "df_action.to_csv('./backtest/' + model_name + '50000' + 'action.csv')\n",
    "df_account.to_csv('./backtest/' + model_name + '50000' + 'account.csv')"
   ],
   "metadata": {
    "collapsed": false
   }
  }
 ],
 "metadata": {
  "kernelspec": {
   "display_name": "Python 3",
   "language": "python",
   "name": "python3"
  },
  "language_info": {
   "codemirror_mode": {
    "name": "ipython",
    "version": 2
   },
   "file_extension": ".py",
   "mimetype": "text/x-python",
   "name": "python",
   "nbconvert_exporter": "python",
   "pygments_lexer": "ipython2",
   "version": "2.7.6"
  }
 },
 "nbformat": 4,
 "nbformat_minor": 0
}
